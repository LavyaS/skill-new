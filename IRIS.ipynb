{
  "nbformat": 4,
  "nbformat_minor": 0,
  "metadata": {
    "colab": {
      "provenance": [],
      "authorship_tag": "ABX9TyMEFxIC9rjy5F1FIAeFv/du",
      "include_colab_link": true
    },
    "kernelspec": {
      "name": "python3",
      "display_name": "Python 3"
    },
    "language_info": {
      "name": "python"
    }
  },
  "cells": [
    {
      "cell_type": "markdown",
      "metadata": {
        "id": "view-in-github",
        "colab_type": "text"
      },
      "source": [
        "<a href=\"https://colab.research.google.com/github/LavyaS/skill-new/blob/main/IRIS.ipynb\" target=\"_parent\"><img src=\"https://colab.research.google.com/assets/colab-badge.svg\" alt=\"Open In Colab\"/></a>"
      ]
    },
    {
      "cell_type": "code",
      "execution_count": 10,
      "metadata": {
        "colab": {
          "base_uri": "https://localhost:8080/"
        },
        "id": "-Q0J_KnpDDZ4",
        "outputId": "4896d3d2-7f2c-40cd-ff64-59774be265c9"
      },
      "outputs": [
        {
          "output_type": "stream",
          "name": "stdout",
          "text": [
            "Original Data:\n",
            "   Id  SepalLengthCm  SepalWidthCm  PetalLengthCm  PetalWidthCm      Species\n",
            "0   1            5.1           3.5            1.4           0.2  Iris-setosa\n",
            "1   2            4.9           3.0            1.4           0.2  Iris-setosa\n",
            "2   3            4.7           3.2            1.3           0.2  Iris-setosa\n",
            "3   4            4.6           3.1            1.5           0.2  Iris-setosa\n",
            "4   5            5.0           3.6            1.4           0.2  Iris-setosa\n",
            "\n",
            "Encoded Data:\n",
            "   Id  SepalLengthCm  SepalWidthCm  PetalLengthCm  PetalWidthCm      Species  \\\n",
            "0   1            5.1           3.5            1.4           0.2  Iris-setosa   \n",
            "1   2            4.9           3.0            1.4           0.2  Iris-setosa   \n",
            "2   3            4.7           3.2            1.3           0.2  Iris-setosa   \n",
            "3   4            4.6           3.1            1.5           0.2  Iris-setosa   \n",
            "4   5            5.0           3.6            1.4           0.2  Iris-setosa   \n",
            "\n",
            "   Species_Ordinal  Species_Label  Species_Iris-versicolor  \\\n",
            "0              0.0              0                      0.0   \n",
            "1              0.0              0                      0.0   \n",
            "2              0.0              0                      0.0   \n",
            "3              0.0              0                      0.0   \n",
            "4              0.0              0                      0.0   \n",
            "\n",
            "   Species_Iris-virginica  Species_0  Species_1  Species_Target  \\\n",
            "0                     0.0          0          1       27.871294   \n",
            "1                     0.0          0          1       27.871294   \n",
            "2                     0.0          0          1       27.871294   \n",
            "3                     0.0          0          1       27.871294   \n",
            "4                     0.0          0          1       27.871294   \n",
            "\n",
            "   Species_Frequency  Species_WOE  col_0  col_1  col_2  \n",
            "0           0.333333     4.605555      1      0      0  \n",
            "1           0.333333     4.605555      1      0      0  \n",
            "2           0.333333     4.605555      1      0      0  \n",
            "3           0.333333     4.605555      1      0      0  \n",
            "4           0.333333     4.605555      1      0      0  \n",
            "\n",
            "Encoded dataset saved as '/Iris_Encoded.csv'!\n"
          ]
        }
      ],
      "source": [
        "# Import necessary libraries\n",
        "import pandas as pd\n",
        "import numpy as np\n",
        "from sklearn.preprocessing import LabelEncoder, OneHotEncoder, OrdinalEncoder\n",
        "import category_encoders as ce\n",
        "import os\n",
        "\n",
        "# 📂 Check if '/Iris.csv' exists\n",
        "file_path = \"/Iris.csv\"\n",
        "\n",
        "if not os.path.exists(file_path):\n",
        "    print(\"🚨 File '/Iris.csv' not found! Please upload it.\")\n",
        "    from google.colab import files\n",
        "    uploaded = files.upload()\n",
        "    file_path = list(uploaded.keys())[0]  # Get uploaded filename\n",
        "\n",
        "# 📥 Load dataset from CSV file\n",
        "df = pd.read_csv(file_path)\n",
        "\n",
        "# 🌟 Check dataset structure\n",
        "print(\"Original Data:\")\n",
        "print(df.head())\n",
        "\n",
        "# 1️⃣ Ordinal Encoding\n",
        "ordinal_encoder = OrdinalEncoder()\n",
        "df['Species_Ordinal'] = ordinal_encoder.fit_transform(df[['Species']])\n",
        "\n",
        "# 2️⃣ Label Encoding\n",
        "label_encoder = LabelEncoder()\n",
        "df['Species_Label'] = label_encoder.fit_transform(df['Species'])\n",
        "\n",
        "# 3️⃣ One-Hot Encoding (Fixed)\n",
        "onehot_encoder = OneHotEncoder(sparse_output=False, drop='first')  # ✅ FIXED\n",
        "onehot_encoded = onehot_encoder.fit_transform(df[['Species']])\n",
        "onehot_df = pd.DataFrame(onehot_encoded, columns=onehot_encoder.get_feature_names_out(['Species']))\n",
        "df = pd.concat([df, onehot_df], axis=1)\n",
        "\n",
        "# 4️⃣ Binary Encoding\n",
        "binary_encoder = ce.BinaryEncoder(cols=['Species'])\n",
        "df_binary = binary_encoder.fit_transform(df[['Species']])\n",
        "df = pd.concat([df, df_binary], axis=1)\n",
        "\n",
        "# 5️⃣ Target Encoding (Using SepalLengthCm as target)\n",
        "target_encoder = ce.TargetEncoder(cols=['Species'])\n",
        "df['Species_Target'] = target_encoder.fit_transform(df['Species'], df.iloc[:, 0])\n",
        "\n",
        "# 6️⃣ Frequency Encoding\n",
        "freq_encoding = df['Species'].value_counts(normalize=True)\n",
        "df['Species_Frequency'] = df['Species'].map(freq_encoding)\n",
        "\n",
        "# 7️⃣ Fix for WOE Encoding: Convert Species into a Binary Target\n",
        "df['Species_Binary'] = df['Species'].apply(lambda x: 1 if x == 'Iris-setosa' else 0)\n",
        "\n",
        "# Apply WOE Encoding with Binary Target\n",
        "woe_encoder = ce.WOEEncoder(cols=['Species'])\n",
        "df['Species_WOE'] = woe_encoder.fit_transform(df['Species'], df['Species_Binary'])\n",
        "\n",
        "# Remove temporary binary column\n",
        "df.drop(columns=['Species_Binary'], inplace=True)\n",
        "\n",
        "# 8️⃣ Hash Encoding\n",
        "hash_encoder = ce.HashingEncoder(cols=['Species'], n_components=3)\n",
        "df_hash = hash_encoder.fit_transform(df[['Species']])\n",
        "df = pd.concat([df, df_hash], axis=1)\n",
        "\n",
        "# 🖥 Display final encoded dataset\n",
        "print(\"\\nEncoded Data:\")\n",
        "print(df.head())\n",
        "\n",
        "# ✅ Save Encoded Data to CSV (Optional)\n",
        "df.to_csv(\"/Iris_Encoded.csv\", index=False)\n",
        "print(\"\\nEncoded dataset saved as '/Iris_Encoded.csv'!\")\n"
      ]
    }
  ]
}